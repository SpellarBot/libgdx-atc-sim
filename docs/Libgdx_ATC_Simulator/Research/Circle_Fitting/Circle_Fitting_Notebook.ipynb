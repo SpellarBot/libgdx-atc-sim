{
 "cells": [
  {
   "cell_type": "code",
   "execution_count": 1,
   "metadata": {
    "collapsed": true
   },
   "outputs": [],
   "source": [
    "%matplotlib inline\n",
    "\n",
    "import matplotlib\n",
    "import numpy as np\n",
    "import matplotlib.pyplot as plt\n",
    "import scipy.optimize\n",
    "import lmfit\n",
    "from math import *"
   ]
  },
  {
   "cell_type": "markdown",
   "metadata": {},
   "source": [
    "# Circle Fitting Research"
   ]
  },
  {
   "cell_type": "raw",
   "metadata": {
    "nbsphinx-toctree": {
     "hidden": true
    },
    "raw_mimetype": "text/restructuredtext"
   },
   "source": [
    ".. contents::\n",
    "    :local:\n"
   ]
  },
  {
   "cell_type": "markdown",
   "metadata": {},
   "source": [
    "## Introduction\n",
    "\n",
    "This document is an exploration into the mathematics and algorithms of fitting lines and circles to a limited number of points which are a subset of an aircraft track."
   ]
  },
  {
   "cell_type": "markdown",
   "metadata": {},
   "source": [
    "## Data"
   ]
  },
  {
   "cell_type": "code",
   "execution_count": 2,
   "metadata": {
    "collapsed": true
   },
   "outputs": [],
   "source": [
    "def plot_data(dataset):\n",
    "    x = []\n",
    "    y = []\n",
    "\n",
    "    for x_coord, y_coord in dataset:\n",
    "        x.append(x_coord)\n",
    "        y.append(y_coord)\n",
    "\n",
    "    plt.scatter(x, y)"
   ]
  },
  {
   "cell_type": "markdown",
   "metadata": {},
   "source": [
    "### data1\n",
    "an aircraft travelling in more or less a straight line (perhaps with a slight curve)"
   ]
  },
  {
   "cell_type": "code",
   "execution_count": 3,
   "metadata": {
    "collapsed": false
   },
   "outputs": [
    {
     "data": {
      "image/png": "[encoded data removed]",
      "text/plain": [
       "<matplotlib.figure.Figure at 0x7fe21c84ac18>"
      ]
     },
     "metadata": {},
     "output_type": "display_data"
    }
   ],
   "source": [
    "data1 = [[-7823.439561574536, -2568.6287717351497],\n",
    "[-5107.037760476856, -1043.730245427465],\n",
    "[-2762.7301083133757, 190.28046761840392],\n",
    "[-259.35055129732217, 1076.7365979969445],\n",
    "[2135.210021244198, 2041.7607403979657],\n",
    "[4013.295597771261, 2335.1731250977123]]\n",
    "\n",
    "plot_data(data1)\n",
    "plt.axes().set_aspect('equal', 'datalim')"
   ]
  },
  {
   "cell_type": "markdown",
   "metadata": {},
   "source": [
    "### data2\n",
    "noisy data of an aircraft turning"
   ]
  },
  {
   "cell_type": "code",
   "execution_count": 4,
   "metadata": {
    "collapsed": false,
    "scrolled": true
   },
   "outputs": [
    {
     "data": {
      "image/png": "[encoded data removed]",
      "text/plain": [
       "<matplotlib.figure.Figure at 0x7fe21c84a9e8>"
      ]
     },
     "metadata": {},
     "output_type": "display_data"
    }
   ],
   "source": [
    "data2 = [[-2736.5842226839904, 9051.690473155024],\n",
    "[-1973.134855393139, 9237.219387656745],\n",
    "[-1307.9423416823379, 10095.120237700188],\n",
    "[-1212.8163721100887, 10729.934781668326]]\n",
    "\n",
    "plot_data(data2)\n",
    "plt.axes().set_aspect('equal', 'datalim')"
   ]
  },
  {
   "cell_type": "code",
   "execution_count": null,
   "metadata": {
    "collapsed": true
   },
   "outputs": [],
   "source": []
  },
  {
   "cell_type": "markdown",
   "metadata": {},
   "source": [
    "## Line Fitting"
   ]
  },
  {
   "cell_type": "markdown",
   "metadata": {},
   "source": [
    "### Scipy Line Fitting\n",
    "\n",
    "This is a first foray into doing line fitting using minimization of perpendicular offsets using scipy's minimization function."
   ]
  },
  {
   "cell_type": "code",
   "execution_count": 5,
   "metadata": {
    "collapsed": false
   },
   "outputs": [
    {
     "data": {
      "image/png": "[encoded data removed]",
      "text/plain": [
       "<matplotlib.figure.Figure at 0x7fe21c730dd8>"
      ]
     },
     "metadata": {},
     "output_type": "display_data"
    }
   ],
   "source": [
    "def perpendicular_distance(m, c, point):\n",
    "    \"\"\"returns a positive if on the right side of the line\n",
    "    returns a negative if on the left side of the line\"\"\"\n",
    "    a = m\n",
    "    x1 = point[0]\n",
    "    y1 = point[1]\n",
    "    \n",
    "    d = (a*x1 - y1 + c)/(sqrt(a*a + 1))\n",
    "    return d\n",
    "\n",
    "def least_squares_distance(m, c, points):\n",
    "    distance_sum = 0\n",
    "    for point in points:\n",
    "        distance_sum += perpendicular_distance(m, c, point)**2\n",
    "    \n",
    "    return distance_sum\n",
    "\n",
    "def func(x, *args):\n",
    "    return least_squares_distance(x[0], x[1], args[0])\n",
    "\n",
    "retval = scipy.optimize.minimize(func, [0,0], args=(data1))\n",
    "m = retval.x[0]\n",
    "c = retval.x[1]\n",
    "\n",
    "plot_data(data1)\n",
    "\n",
    "x = np.linspace(-10000, 5000)\n",
    "y = []\n",
    "for val in x:\n",
    "    y.append(val*m + c)\n",
    "\n",
    "    \n",
    "plt.plot(x, y)\n",
    "plt.axes().set_aspect('equal', 'datalim')\n",
    "\n",
    "\n",
    "# least_squares_distance(1, 1000, data1)\n",
    "\n",
    "    "
   ]
  },
  {
   "cell_type": "markdown",
   "metadata": {},
   "source": [
    "### Newton Line Fitting"
   ]
  },
  {
   "cell_type": "code",
   "execution_count": null,
   "metadata": {
    "collapsed": true
   },
   "outputs": [],
   "source": []
  },
  {
   "cell_type": "markdown",
   "metadata": {},
   "source": [
    "### Gauss-Newton Line Fitting"
   ]
  },
  {
   "cell_type": "code",
   "execution_count": null,
   "metadata": {
    "collapsed": true
   },
   "outputs": [],
   "source": []
  },
  {
   "cell_type": "markdown",
   "metadata": {},
   "source": [
    "## Circle Fitting"
   ]
  },
  {
   "cell_type": "markdown",
   "metadata": {},
   "source": [
    "### three point circle solver"
   ]
  },
  {
   "cell_type": "code",
   "execution_count": 6,
   "metadata": {
    "collapsed": false
   },
   "outputs": [
    {
     "data": {
      "image/png": "[encoded data removed]",
      "text/plain": [
       "<matplotlib.figure.Figure at 0x7fe21c86a208>"
      ]
     },
     "metadata": {},
     "output_type": "display_data"
    }
   ],
   "source": [
    "class Circle:\n",
    "    def __init__(self, pos, radius):\n",
    "        self.pos = pos\n",
    "        self.radius = radius\n",
    "\n",
    "    \n",
    "    @staticmethod\n",
    "    def from_three_points(p1, p2, p3):\n",
    "        dy1 = p2[1] - p1[1]\n",
    "        dx1 = p2[0] - p1[0]\n",
    "        dy2 = p3[1] - p2[1]\n",
    "        dx2 = p3[0] - p2[0]\n",
    "        \n",
    "        slope1 = dy1/dx1\n",
    "        slope2 = dy2/dx2\n",
    "        \n",
    "        x = (slope1*slope2*(p1[1] - p3[1]) + slope2*(p1[0] + p2[0]) - slope1*(p2[0] + p3[0]))/(2*(slope2-slope1))\n",
    "        y = -1*(x - (p1[0] + p2[0])/2)/slope1 + (p1[1] + p2[1])/2\n",
    "        \n",
    "        x1 = x - p1[0]\n",
    "        y1 = y - p1[1]\n",
    "        r = sqrt(x1*x1 + y1*y1)\n",
    "        \n",
    "        return Circle([x,y], r)\n",
    "    \n",
    "    def get_plot(self, **kwargs):\n",
    "        return plt.Circle((self.pos[0], self.pos[1]), self.radius, **kwargs)\n",
    "    \n",
    "    def __str__(self):\n",
    "        return \"Circle([{0},{1}],{2})\".format(self.pos[0], self.pos[1], self.radius)\n",
    "    \n",
    "    def distance2(self, point):\n",
    "        return (sqrt((point[0] - self.pos[0])**2 + (point[1] - self.pos[1])**2) - self.radius)**2\n",
    "    \n",
    "\n",
    "\n",
    "c1 = Circle([1,1], 1)\n",
    "c2 = Circle.from_three_points([-1, 0], [0, 1], [1, 0])\n",
    "\n",
    "fig, ax = plt.subplots()\n",
    "ax.add_artist(c1.get_plot(edgecolor=\"r\", facecolor=\"none\"))\n",
    "ax.add_artist(c2.get_plot(edgecolor=\"g\", facecolor=\"none\"))\n",
    "ax.set_aspect('equal')"
   ]
  },
  {
   "cell_type": "markdown",
   "metadata": {},
   "source": [
    "### Scipy Minimize Circle Fitting\n",
    "The following two cells demonstrate using scipy's minimize function to solve for circles using the conventional parameterization:\n",
    "\n",
    "$$d_i = \\sqrt{(x_i - a)^2 + (y_i - b)^2} - R$$\n",
    "$$F =  \\sum_{i=1}^{n}d_i^2$$\n",
    "\n",
    "Where F is the function we are trying to minimize."
   ]
  },
  {
   "cell_type": "code",
   "execution_count": 7,
   "metadata": {
    "collapsed": false
   },
   "outputs": [
    {
     "name": "stdout",
     "output_type": "stream",
     "text": [
      "Guess(green): Circle([-2676.9263298024503,10469.756101355182],1419.3199745179995)\n",
      "Answer(red): Circle([-2744.1154157915385,10576.023919859705],1530.7115839583885)\n"
     ]
    },
    {
     "data": {
      "image/png": "[encoded data removed]",
      "text/plain": [
       "<matplotlib.figure.Figure at 0x7fe21c7a2198>"
      ]
     },
     "metadata": {},
     "output_type": "display_data"
    }
   ],
   "source": [
    "\n",
    "def circle_ri(a, b, radius, points):\n",
    "    r_sum = 0\n",
    "    c = Circle([a, b], radius)\n",
    "    for point in points:\n",
    "        r_sum += c.distance2(point)\n",
    "    \n",
    "    return r_sum\n",
    "\n",
    "def func(x, *args):\n",
    "    return circle_ri(x[0], x[1], x[2], args[0])\n",
    "\n",
    "c1 = Circle.from_three_points(data2[0], data2[1], data2[2])\n",
    "\n",
    "retval = scipy.optimize.minimize(func, [c1.pos[0],c1.pos[1],c1.radius], args=(data2))\n",
    "a = retval.x[0]\n",
    "b = retval.x[1]\n",
    "r = retval.x[2]\n",
    "\n",
    "c2 = Circle([a,b], r)\n",
    "\n",
    "\n",
    "plot_data(data2)\n",
    "\n",
    "print(\"Guess(green):\", c1)\n",
    "print(\"Answer(red):\", c2)\n",
    "\n",
    "\n",
    "ax = plt.gca()\n",
    "ax.add_artist(c1.get_plot(edgecolor=\"g\", facecolor=\"none\"))\n",
    "ax.add_artist(c2.get_plot(edgecolor=\"r\", facecolor=\"none\"))\n",
    "\n",
    "plt.axes().set_aspect('equal', 'datalim')\n"
   ]
  },
  {
   "cell_type": "code",
   "execution_count": 8,
   "metadata": {
    "collapsed": false
   },
   "outputs": [
    {
     "name": "stdout",
     "output_type": "stream",
     "text": [
      "Guess(green): Circle([45793.89384213992,-94898.80121838693],106769.28015751315)\n",
      "Answer(red): Circle([12107.017055118396,-33336.20943681085],36638.49292318794)\n"
     ]
    },
    {
     "data": {
      "image/png": "[encoded data removed]",
      "text/plain": [
       "<matplotlib.figure.Figure at 0x7fe21c7b0588>"
      ]
     },
     "metadata": {},
     "output_type": "display_data"
    }
   ],
   "source": [
    "c1 = Circle.from_three_points(data1[0], data1[1], data1[2])\n",
    "\n",
    "retval = scipy.optimize.minimize(func, [c1.pos[0],c1.pos[1],c1.radius], args=(data1))\n",
    "a = retval.x[0]\n",
    "b = retval.x[1]\n",
    "r = retval.x[2]\n",
    "\n",
    "c2 = Circle([a,b], r)\n",
    "\n",
    "\n",
    "x = []\n",
    "y = []\n",
    "\n",
    "for x_coord, y_coord in data1:\n",
    "    x.append(x_coord)\n",
    "    y.append(y_coord)\n",
    "\n",
    "plt.scatter(x, y)\n",
    "\n",
    "print(\"Guess(green):\", c1)\n",
    "print(\"Answer(red):\", c2)\n",
    "\n",
    "\n",
    "ax = plt.gca()\n",
    "ax.add_artist(c1.get_plot(edgecolor=\"g\", facecolor=\"none\"))\n",
    "ax.add_artist(c2.get_plot(edgecolor=\"r\", facecolor=\"none\"))\n",
    "\n",
    "plt.axes().set_aspect('equal', 'datalim')"
   ]
  },
  {
   "cell_type": "markdown",
   "metadata": {},
   "source": [
    "### SciPy Levenberg-Marquardt Least-Squares Circle Fitting"
   ]
  },
  {
   "cell_type": "code",
   "execution_count": 10,
   "metadata": {
    "collapsed": false
   },
   "outputs": [
    {
     "name": "stdout",
     "output_type": "stream",
     "text": [
      "Guess(green): Circle([45793.89384213992,-94898.80121838693],106769.28015751315)\n",
      "Answer(red): Circle([12051.872411956107,-32914.71010089948],36234.900858877416)\n"
     ]
    },
    {
     "data": {
      "image/png": "[encoded data removed]",
      "text/plain": [
       "<matplotlib.figure.Figure at 0x7fe21c70eef0>"
      ]
     },
     "metadata": {},
     "output_type": "display_data"
    }
   ],
   "source": [
    "def circle_ri(a, b, radius, points):\n",
    "    residuals = []\n",
    "    c = Circle([a, b], radius)\n",
    "    for point in points:\n",
    "        residuals.append(c.distance2(point))\n",
    "    \n",
    "    return residuals\n",
    "\n",
    "def func(x, *args):\n",
    "    return circle_ri(x[0], x[1], x[2], args)\n",
    "\n",
    "c1 = Circle.from_three_points(data1[0], data1[1], data1[2])\n",
    "\n",
    "retval = scipy.optimize.least_squares(func, [c1.pos[0],c1.pos[1],c1.radius], args=(data1), method=\"lm\")\n",
    "a = retval.x[0]\n",
    "b = retval.x[1]\n",
    "r = retval.x[2]\n",
    "\n",
    "c2 = Circle([a,b], r)\n",
    "\n",
    "\n",
    "plot_data(data1)\n",
    "\n",
    "print(\"Guess(green):\", c1)\n",
    "print(\"Answer(red):\", c2)\n",
    "\n",
    "\n",
    "ax = plt.gca()\n",
    "ax.add_artist(c1.get_plot(edgecolor=\"g\", facecolor=\"none\"))\n",
    "ax.add_artist(c2.get_plot(edgecolor=\"r\", facecolor=\"none\"))\n",
    "\n",
    "plt.axes().set_aspect('equal', 'datalim')"
   ]
  },
  {
   "cell_type": "code",
   "execution_count": 11,
   "metadata": {
    "collapsed": false
   },
   "outputs": [
    {
     "name": "stdout",
     "output_type": "stream",
     "text": [
      "Guess(green): Circle([-2676.9263298024503,10469.756101355182],1419.3199745179995)\n",
      "Answer(red): Circle([-2749.8969143634604,10575.118314312538],1533.689331374633)\n"
     ]
    },
    {
     "data": {
      "image/png": "[encoded data removed]",
      "text/plain": [
       "<matplotlib.figure.Figure at 0x7fe21c5a02b0>"
      ]
     },
     "metadata": {},
     "output_type": "display_data"
    }
   ],
   "source": [
    "c1 = Circle.from_three_points(data2[0], data2[1], data2[2])\n",
    "\n",
    "retval = scipy.optimize.least_squares(func, [c1.pos[0],c1.pos[1],c1.radius], args=(data2), method=\"lm\")\n",
    "a = retval.x[0]\n",
    "b = retval.x[1]\n",
    "r = retval.x[2]\n",
    "\n",
    "c2 = Circle([a,b], r)\n",
    "\n",
    "plot_data(data2)\n",
    "\n",
    "print(\"Guess(green):\", c1)\n",
    "print(\"Answer(red):\", c2)\n",
    "\n",
    "\n",
    "ax = plt.gca()\n",
    "ax.add_artist(c1.get_plot(edgecolor=\"g\", facecolor=\"none\"))\n",
    "ax.add_artist(c2.get_plot(edgecolor=\"r\", facecolor=\"none\"))\n",
    "\n",
    "plt.axes().set_aspect('equal', 'datalim')"
   ]
  }
 ],
 "metadata": {
  "celltoolbar": "Edit Metadata",
  "kernelspec": {
   "display_name": "Python 3",
   "language": "python",
   "name": "python3"
  },
  "language_info": {
   "codemirror_mode": {
    "name": "ipython",
    "version": 3
   },
   "file_extension": ".py",
   "mimetype": "text/x-python",
   "name": "python",
   "nbconvert_exporter": "python",
   "pygments_lexer": "ipython3",
   "version": "3.5.2"
  }
 },
 "nbformat": 4,
 "nbformat_minor": 1
}
